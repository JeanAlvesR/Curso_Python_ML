{
 "cells": [
  {
   "cell_type": "markdown",
   "id": "82224495",
   "metadata": {},
   "source": [
    "# Reconhecimento de imagens"
   ]
  },
  {
   "cell_type": "code",
   "execution_count": 48,
   "id": "9a1dd0aa",
   "metadata": {},
   "outputs": [],
   "source": [
    "from sklearn import datasets\n",
    "digits = datasets.load_digits()"
   ]
  },
  {
   "cell_type": "code",
   "execution_count": 49,
   "id": "01c13e5b",
   "metadata": {},
   "outputs": [
    {
     "name": "stdout",
     "output_type": "stream",
     "text": [
      "(1797, 64)\n",
      "(1797,)\n"
     ]
    }
   ],
   "source": [
    "print(digits.data.shape)\n",
    "print(digits.target.shape)"
   ]
  },
  {
   "cell_type": "code",
   "execution_count": 50,
   "id": "96ca5cda",
   "metadata": {},
   "outputs": [
    {
     "name": "stdout",
     "output_type": "stream",
     "text": [
      "[[ 0.  0.  5. 13.  9.  1.  0.  0.]\n",
      " [ 0.  0. 13. 15. 10. 15.  5.  0.]\n",
      " [ 0.  3. 15.  2.  0. 11.  8.  0.]\n",
      " [ 0.  4. 12.  0.  0.  8.  8.  0.]\n",
      " [ 0.  5.  8.  0.  0.  9.  8.  0.]\n",
      " [ 0.  4. 11.  0.  1. 12.  7.  0.]\n",
      " [ 0.  2. 14.  5. 10. 12.  0.  0.]\n",
      " [ 0.  0.  6. 13. 10.  0.  0.  0.]]\n"
     ]
    }
   ],
   "source": [
    "#Representação 8x8 de uma imagem\n",
    "print(digits.images[0])"
   ]
  },
  {
   "cell_type": "code",
   "execution_count": 56,
   "id": "77e3f5c0",
   "metadata": {},
   "outputs": [
    {
     "data": {
      "text/plain": [
       "<matplotlib.image.AxesImage at 0x1c689adb610>"
      ]
     },
     "execution_count": 56,
     "metadata": {},
     "output_type": "execute_result"
    },
    {
     "data": {
      "image/png": "[encoded data removed]",
      "text/plain": [
       "<Figure size 216x216 with 1 Axes>"
      ]
     },
     "metadata": {
      "needs_background": "light"
     },
     "output_type": "display_data"
    }
   ],
   "source": [
    "import matplotlib.pyplot as plt\n",
    "%matplotlib inline\n",
    "\n",
    "plt.figure(figsize=(3,3))\n",
    "plt.imshow(digits.images[55], cmap='gray')"
   ]
  },
  {
   "cell_type": "markdown",
   "id": "8cf1eb37",
   "metadata": {},
   "source": [
    "#### Treinando modelos\n",
    "##### Aplicação do SVM"
   ]
  },
  {
   "cell_type": "code",
   "execution_count": 52,
   "id": "c85522cb",
   "metadata": {},
   "outputs": [],
   "source": [
    "from sklearn.model_selection import train_test_split\n",
    "x = digits.data\n",
    "y = digits.target\n",
    "x_train, x_test, y_train, y_test = train_test_split(x, y, test_size=0.30)\n"
   ]
  },
  {
   "cell_type": "markdown",
   "id": "44a65851",
   "metadata": {},
   "source": [
    "svm: Support Vector Machine\n",
    "ele cria uma reta entre os dados para divididos de forma simétrica, podendo assim classificá-los: https://en.wikipedia.org/wiki/Support-vector_machine"
   ]
  },
  {
   "cell_type": "code",
   "execution_count": 53,
   "id": "5d6fb810",
   "metadata": {},
   "outputs": [
    {
     "name": "stdout",
     "output_type": "stream",
     "text": [
      "0.9851851851851852\n"
     ]
    }
   ],
   "source": [
    "\n",
    "from sklearn import svm\n",
    "\n",
    "classifier = svm.SVC()\n",
    "\n",
    "classifier.fit(x_train, y_train)\n",
    "\n",
    "y_prev = classifier.predict(x_test)\n",
    "\n",
    "from sklearn import metrics\n",
    "\n",
    "acertos = metrics.accuracy_score(y_test,y_prev)\n",
    "print(acertos)"
   ]
  },
  {
   "cell_type": "markdown",
   "id": "540edf12",
   "metadata": {},
   "source": [
    "#### Leitura da imagem de um dígito "
   ]
  },
  {
   "cell_type": "code",
   "execution_count": 61,
   "id": "2ee3d079",
   "metadata": {},
   "outputs": [],
   "source": [
    "import numpy as np\n",
    "import matplotlib.image as mpimg\n",
    "\n",
    "img = mpimg.imread('img/number.png')\n",
    "#print(img)\n",
    "\n",
    "def rgb2gray(rgb):\n",
    "    #método dot: calcula o produto de dois array\n",
    "    img_array = np.dot(rgb[...,:3],[0.299, 0.587,0.114])\n",
    "    #multiplica todo o array por 16 e o astype vai converte-los para int\n",
    "    #o 16 - serve para converter todo o array.\n",
    "    img_array = (16 - img_array * 16).astype(int)\n",
    "    #Converte a matriz para um array\n",
    "    img_array = img_array.flatten()\n",
    "    return img_array\n",
    "\n",
    "img = rgb2gray(img)\n",
    "\n"
   ]
  },
  {
   "cell_type": "markdown",
   "id": "a127f67e",
   "metadata": {},
   "source": [
    "#### Classificar imagem"
   ]
  },
  {
   "cell_type": "code",
   "execution_count": 75,
   "id": "09296f95",
   "metadata": {},
   "outputs": [
    {
     "data": {
      "text/plain": [
       "<matplotlib.image.AxesImage at 0x1c68aa436a0>"
      ]
     },
     "execution_count": 75,
     "metadata": {},
     "output_type": "execute_result"
    },
    {
     "data": {
      "image/png": "[encoded data removed]",
      "text/plain": [
       "<Figure size 432x288 with 1 Axes>"
      ]
     },
     "metadata": {
      "needs_background": "light"
     },
     "output_type": "display_data"
    }
   ],
   "source": [
    "previsao = classifier.predict([img])\n",
    "#Deu certo!\n",
    "plt.imshow(digits.images[int(previsao)], cmap='gray')\n"
   ]
  },
  {
   "cell_type": "markdown",
   "id": "f90ea993",
   "metadata": {},
   "source": [
    "#### Utilizando o modelo de Regressão logística"
   ]
  },
  {
   "cell_type": "code",
   "execution_count": 86,
   "id": "e408c078",
   "metadata": {},
   "outputs": [
    {
     "name": "stdout",
     "output_type": "stream",
     "text": [
      "[1]\n"
     ]
    },
    {
     "name": "stderr",
     "output_type": "stream",
     "text": [
      "C:\\Users\\Jean\\AppData\\Local\\Packages\\PythonSoftwareFoundation.Python.3.10_qbz5n2kfra8p0\\LocalCache\\local-packages\\Python310\\site-packages\\sklearn\\linear_model\\_logistic.py:444: ConvergenceWarning: lbfgs failed to converge (status=1):\n",
      "STOP: TOTAL NO. of ITERATIONS REACHED LIMIT.\n",
      "\n",
      "Increase the number of iterations (max_iter) or scale the data as shown in:\n",
      "    https://scikit-learn.org/stable/modules/preprocessing.html\n",
      "Please also refer to the documentation for alternative solver options:\n",
      "    https://scikit-learn.org/stable/modules/linear_model.html#logistic-regression\n",
      "  n_iter_i = _check_optimize_result(\n"
     ]
    }
   ],
   "source": [
    "\n",
    "from sklearn.linear_model import LogisticRegression\n",
    "\n",
    "logreg = LogisticRegression()\n",
    "logreg.fit(x, y)\n",
    "previsao_reg = logreg.predict([img])\n",
    "\n",
    "print(previsao_reg)"
   ]
  },
  {
   "cell_type": "code",
   "execution_count": null,
   "id": "c6e089dd",
   "metadata": {},
   "outputs": [],
   "source": []
  }
 ],
 "metadata": {
  "kernelspec": {
   "display_name": "Python 3 (ipykernel)",
   "language": "python",
   "name": "python3"
  },
  "language_info": {
   "codemirror_mode": {
    "name": "ipython",
    "version": 3
   },
   "file_extension": ".py",
   "mimetype": "text/x-python",
   "name": "python",
   "nbconvert_exporter": "python",
   "pygments_lexer": "ipython3",
   "version": "3.10.5"
  }
 },
 "nbformat": 4,
 "nbformat_minor": 5
}

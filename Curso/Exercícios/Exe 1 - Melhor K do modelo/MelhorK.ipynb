{
 "cells": [
  {
   "cell_type": "markdown",
   "id": "d13e2267",
   "metadata": {},
   "source": [
    "# Exercício 1 - Descobrindo o melhor K para o conjunto de dados"
   ]
  },
  {
   "cell_type": "markdown",
   "id": "bb3cf542",
   "metadata": {},
   "source": [
    "### Etapas\n",
    "1. Capturar dados das plantas\n",
    "2. delimitar x, y -> dados das plantas e suas respostas, target.\n",
    "3. Separar os dados em dos conjuntos: Treino e Teste\n",
    "4. Criar um dict de k->respostas\n",
    "5. Fazer um loop de 1 a 25 para o valor de k.\n",
    "6. Dentro do loop: gerar os dados com base no k, fazer predição e, por fim, fazer a comparação entre os resultados gerados e os esperados e guardar no dict.\n",
    "7. Imprimir o dict e o melhor K."
   ]
  },
  {
   "cell_type": "markdown",
   "id": "7280b80a",
   "metadata": {},
   "source": [
    "### 1. Capturando dados"
   ]
  },
  {
   "cell_type": "code",
   "execution_count": 2,
   "id": "36233e4d",
   "metadata": {},
   "outputs": [],
   "source": [
    "from sklearn.datasets import load_iris\n",
    "iris = load_iris()\n"
   ]
  },
  {
   "cell_type": "markdown",
   "id": "4968cb38",
   "metadata": {},
   "source": [
    "### 2. Demitando x, y"
   ]
  },
  {
   "cell_type": "code",
   "execution_count": 4,
   "id": "8e993379",
   "metadata": {},
   "outputs": [],
   "source": [
    "x = iris.data\n",
    "y = iris.target"
   ]
  },
  {
   "cell_type": "markdown",
   "id": "2ab87f4c",
   "metadata": {},
   "source": [
    "### 3. Separando o conjunto de dados: Treino e Teste"
   ]
  },
  {
   "cell_type": "code",
   "execution_count": 6,
   "id": "835ad494",
   "metadata": {},
   "outputs": [],
   "source": [
    "from sklearn.model_selection import train_test_split\n",
    "x_train, x_test, y_train, y_test = train_test_split(x, y, test_size=0.25)"
   ]
  },
  {
   "cell_type": "markdown",
   "id": "93a55777",
   "metadata": {},
   "source": [
    "### 4. Dict de K"
   ]
  },
  {
   "cell_type": "code",
   "execution_count": 32,
   "id": "66e2f0f1",
   "metadata": {},
   "outputs": [],
   "source": [
    "dict_k = {}"
   ]
  },
  {
   "cell_type": "markdown",
   "id": "93747c65",
   "metadata": {},
   "source": [
    "### 5. Loop para K, Treino, Previsão, add no Dict"
   ]
  },
  {
   "cell_type": "code",
   "execution_count": 33,
   "id": "6dc4baec",
   "metadata": {},
   "outputs": [],
   "source": [
    "from sklearn.neighbors import KNeighborsClassifier\n",
    "from sklearn import metrics\n",
    "\n",
    "for i in range(25):\n",
    "    knn = KNeighborsClassifier(n_neighbors=i+1)\n",
    "    knn.fit(x_train, y_train)\n",
    "    previsoes = knn.predict(x_test)\n",
    "    acerto = metrics.accuracy_score(y_test,previsoes)\n",
    "    dict_k[i+1] = round(acerto,4)\n",
    "\n",
    "    "
   ]
  },
  {
   "cell_type": "markdown",
   "id": "6e9a1e85",
   "metadata": {},
   "source": [
    "### 6. Imprimindo o melhor K"
   ]
  },
  {
   "cell_type": "code",
   "execution_count": 34,
   "id": "fde9a766",
   "metadata": {},
   "outputs": [
    {
     "name": "stdout",
     "output_type": "stream",
     "text": [
      "{1: 0.9211,\n",
      " 2: 0.9211,\n",
      " 3: 0.9211,\n",
      " 4: 0.9211,\n",
      " 5: 0.9211,\n",
      " 6: 0.9474,\n",
      " 7: 0.9474,\n",
      " 8: 0.9474,\n",
      " 9: 0.9474,\n",
      " 10: 0.9474,\n",
      " 11: 0.9211,\n",
      " 12: 0.9211,\n",
      " 13: 0.9211,\n",
      " 14: 0.9474,\n",
      " 15: 0.9211,\n",
      " 16: 0.9211,\n",
      " 17: 0.9211,\n",
      " 18: 0.9474,\n",
      " 19: 0.9211,\n",
      " 20: 0.9211,\n",
      " 21: 0.9211,\n",
      " 22: 0.9211,\n",
      " 23: 0.9211,\n",
      " 24: 0.9211,\n",
      " 25: 0.9211}\n",
      "None\n",
      "Para o K 6 é o melhor:  0.9474\n"
     ]
    }
   ],
   "source": [
    "import pprint as pt\n",
    "print(pt.pprint(dict_k))\n",
    "print('Para o K',max(dict_k, key=dict_k.get),'é o melhor: ',dict_k[max(dict_k, key=dict_k.get)])"
   ]
  },
  {
   "cell_type": "markdown",
   "id": "02e6f0b9",
   "metadata": {},
   "source": [
    "### 7. Gráfico"
   ]
  },
  {
   "cell_type": "code",
   "execution_count": 39,
   "id": "9c20c863",
   "metadata": {},
   "outputs": [
    {
     "data": {
      "image/png": "[encoded data removed]",
      "text/plain": [
       "<Figure size 432x288 with 1 Axes>"
      ]
     },
     "metadata": {
      "needs_background": "light"
     },
     "output_type": "display_data"
    }
   ],
   "source": [
    "import matplotlib.pyplot as plt\n",
    "\n",
    "plt.plot(dict_k.keys(), dict_k.values())\n",
    "plt.show()"
   ]
  },
  {
   "cell_type": "code",
   "execution_count": null,
   "id": "0dfcca37",
   "metadata": {},
   "outputs": [],
   "source": []
  }
 ],
 "metadata": {
  "kernelspec": {
   "display_name": "Python 3 (ipykernel)",
   "language": "python",
   "name": "python3"
  },
  "language_info": {
   "codemirror_mode": {
    "name": "ipython",
    "version": 3
   },
   "file_extension": ".py",
   "mimetype": "text/x-python",
   "name": "python",
   "nbconvert_exporter": "python",
   "pygments_lexer": "ipython3",
   "version": "3.10.5"
  }
 },
 "nbformat": 4,
 "nbformat_minor": 5
}

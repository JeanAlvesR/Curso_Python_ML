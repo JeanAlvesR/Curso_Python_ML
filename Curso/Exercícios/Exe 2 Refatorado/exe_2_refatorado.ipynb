{
 "cells": [
  {
   "cell_type": "markdown",
   "id": "1c5a76c2",
   "metadata": {},
   "source": [
    "# Importação dos módulos"
   ]
  },
  {
   "cell_type": "code",
   "execution_count": 18,
   "id": "a622264e",
   "metadata": {},
   "outputs": [],
   "source": [
    "import pandas as pd\n",
    "from sklearn.model_selection import train_test_split\n",
    "from sklearn.linear_model import LinearRegression\n",
    "from sklearn import metrics\n",
    "import numpy as np"
   ]
  },
  {
   "cell_type": "code",
   "execution_count": 19,
   "id": "886a0645",
   "metadata": {},
   "outputs": [],
   "source": [
    "testes =[['TV','radio','newspaper'],['radio','newspaper'],['TV','newspaper'],['TV','radio']]\n",
    "vencedor = {'teste':'','performance': None}\n",
    "market = pd.read_csv('https://www.statlearning.com/s/Advertising.csv',index_col=0)\n"
   ]
  },
  {
   "cell_type": "code",
   "execution_count": 20,
   "id": "83c29a62",
   "metadata": {},
   "outputs": [
    {
     "name": "stdout",
     "output_type": "stream",
     "text": [
      "Teste: \n",
      "['TV', 'radio', 'newspaper']\n",
      "Performance: \n",
      "1.6203\n",
      "Teste: \n",
      "['radio', 'newspaper']\n",
      "Performance: \n",
      "4.1233\n",
      "Teste: \n",
      "['TV', 'newspaper']\n",
      "Performance: \n",
      "3.0937\n",
      "Teste: \n",
      "['TV', 'radio']\n",
      "Performance: \n",
      "1.6205\n",
      "O vencedor foi:  {'teste': ['TV', 'radio', 'newspaper'], 'performance': 1.6203}\n"
     ]
    }
   ],
   "source": [
    "for teste in testes:\n",
    "    x = market[teste]\n",
    "    y = market['sales']\n",
    "    x_train, x_test, y_train, y_test = train_test_split(x,y,test_size=0.25, random_state=5)\n",
    "    reglin = LinearRegression()\n",
    "    reglin.fit(x_train, y_train)\n",
    "    y_prev = reglin.predict(x_test)\n",
    "    rmse = round(np.sqrt(metrics.mean_squared_error(y_test, y_prev)),4)\n",
    "    if vencedor['performance'] == None:\n",
    "        vencedor['teste'] = teste\n",
    "        vencedor['performance'] = rmse\n",
    "    else:\n",
    "        if vencedor['performance']>rmse:\n",
    "            vencedor['teste'] = teste\n",
    "            vencedor['performance'] = rmse\n",
    "            \n",
    "    print('Teste: ')\n",
    "    print(teste)\n",
    "    print('Performance: ')\n",
    "    print(rmse)\n",
    "print('O vencedor foi: ',vencedor)"
   ]
  },
  {
   "cell_type": "code",
   "execution_count": null,
   "id": "3ababfed",
   "metadata": {},
   "outputs": [],
   "source": []
  }
 ],
 "metadata": {
  "kernelspec": {
   "display_name": "Python 3 (ipykernel)",
   "language": "python",
   "name": "python3"
  },
  "language_info": {
   "codemirror_mode": {
    "name": "ipython",
    "version": 3
   },
   "file_extension": ".py",
   "mimetype": "text/x-python",
   "name": "python",
   "nbconvert_exporter": "python",
   "pygments_lexer": "ipython3",
   "version": "3.10.5"
  }
 },
 "nbformat": 4,
 "nbformat_minor": 5
}

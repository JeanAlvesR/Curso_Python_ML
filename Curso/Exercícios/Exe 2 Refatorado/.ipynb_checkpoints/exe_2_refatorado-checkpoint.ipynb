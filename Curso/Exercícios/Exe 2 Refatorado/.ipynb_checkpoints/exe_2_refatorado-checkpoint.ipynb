{
 "cells": [
  {
   "cell_type": "markdown",
   "id": "ec345ccb",
   "metadata": {},
   "source": [
    "# Importação dos módulos"
   ]
  },
  {
   "cell_type": "code",
   "execution_count": 1,
   "id": "8f18e908",
   "metadata": {},
   "outputs": [],
   "source": [
    "import pandas as pd\n",
    "from sklearn.model_selection import train_test_split\n",
    "from sklearn.linear_model import LinearRegression\n",
    "from sklearn import metrics\n",
    "import numpy as np"
   ]
  },
  {
   "cell_type": "code",
   "execution_count": 2,
   "id": "f506ad6c",
   "metadata": {},
   "outputs": [],
   "source": [
    "testes =[['TV','radio','newspaper'],['radio','newspaper'],['TV','newspaper'],['TV','radio']]\n",
    "vencedor = {'teste':'','performance': None}\n",
    "market = pd.read_csv('https://www.statlearning.com/s/Advertising.csv',index_col=0)\n"
   ]
  },
  {
   "cell_type": "code",
   "execution_count": 5,
   "id": "0809ae23",
   "metadata": {},
   "outputs": [
    {
     "name": "stdout",
     "output_type": "stream",
     "text": [
      "Teste: \n",
      "['TV', 'radio', 'newspaper']\n",
      "Performance: \n",
      "1.6202506817565807\n",
      "Teste: \n",
      "['radio', 'newspaper']\n",
      "Performance: \n",
      "4.123349300676097\n",
      "Teste: \n",
      "['TV', 'newspaper']\n",
      "Performance: \n",
      "3.093745328709663\n",
      "Teste: \n",
      "['TV', 'radio']\n",
      "Performance: \n",
      "1.620502346832747\n"
     ]
    }
   ],
   "source": [
    "for teste in testes:\n",
    "    x = market[teste]\n",
    "    y = market['sales']\n",
    "    x_train, x_test, y_train, y_test = train_test_split(x,y,test_size=0.25, random_state=5)\n",
    "    reglin = LinearRegression()\n",
    "    reglin.fit(x_train, y_train)\n",
    "    y_prev = reglin.predict(x_test)\n",
    "    rmse = np.sqrt(metrics.mean_squared_error(y_test, y_prev))\n",
    "    print('Teste: ')\n",
    "    print(teste)\n",
    "    print('Performance: ')\n",
    "    print(rmse)"
   ]
  },
  {
   "cell_type": "code",
   "execution_count": null,
   "id": "27c5ed08",
   "metadata": {},
   "outputs": [],
   "source": []
  }
 ],
 "metadata": {
  "kernelspec": {
   "display_name": "Python 3 (ipykernel)",
   "language": "python",
   "name": "python3"
  },
  "language_info": {
   "codemirror_mode": {
    "name": "ipython",
    "version": 3
   },
   "file_extension": ".py",
   "mimetype": "text/x-python",
   "name": "python",
   "nbconvert_exporter": "python",
   "pygments_lexer": "ipython3",
   "version": "3.10.5"
  }
 },
 "nbformat": 4,
 "nbformat_minor": 5
}
